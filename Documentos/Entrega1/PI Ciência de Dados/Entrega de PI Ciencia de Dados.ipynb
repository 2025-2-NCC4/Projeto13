{
 "cells": [
  {
   "cell_type": "markdown",
   "id": "2001b147",
   "metadata": {},
   "source": [
    "\n",
    "# Projeto Interdisciplinar — Entrega 1 (PicMoney)\n",
    "\n",
    "\n"
   ]
  },
  {
   "cell_type": "code",
   "execution_count": null,
   "id": "3a834f82",
   "metadata": {},
   "outputs": [],
   "source": [
    "\n",
    "import pandas as pd\n",
    "import numpy as np\n",
    "import matplotlib.pyplot as plt\n",
    "from pathlib import Path\n",
    "\n",
    "BASE_DIR = Path('/content') \n",
    "FILES = {\n",
    "    'players': 'PicMoney-Base_Cadastral_de_Players-10_000 linhas.csv',\n",
    "    'cupons': 'PicMoney-Base_de_Transa__es_-_Cupons_Capturados-100000 linhas.csv',\n",
    "    'pedestres': 'PicMoney-Base_Simulada_-_Pedestres_Av__Paulista-100000 linhas.csv',\n",
    "    'lojas': 'PicMoney-Massa_de_Teste_com_Lojas_e_Valores-10000 linhas.csv',\n",
    "}\n",
    "\n",
    "def normalize_columns(df):\n",
    "    df = df.copy()\n",
    "    df.columns = (\n",
    "        df.columns.str.strip().str.lower()\n",
    "        .str.replace(' ', '_').str.replace('__', '_')\n",
    "        .str.replace('[^0-9a-zA-Z_]+', '', regex=True)\n",
    "    )\n",
    "    return df\n",
    "\n",
    "def safe_read_csv(path):\n",
    "    for enc in ['utf-8','latin-1','cp1252']:\n",
    "        for sep in [',',';','\\t','|']:\n",
    "            try:\n",
    "                return pd.read_csv(path, encoding=enc, sep=sep, low_memory=False)\n",
    "            except Exception:\n",
    "                pass\n",
    "    raise RuntimeError('Falha ao ler CSV')\n",
    "\n",
    "loaded = {}\n",
    "for k, fname in FILES.items():\n",
    "    p = BASE_DIR / fname\n",
    "    loaded[k] = safe_read_csv(p)\n",
    "    loaded[k] = normalize_columns(loaded[k])\n",
    "{ k: (len(v), v.shape[1]) for k,v in loaded.items() }\n",
    "\n"
   ]
  },
  {
   "cell_type": "code",
   "execution_count": null,
   "id": "cb5ca846",
   "metadata": {},
   "outputs": [],
   "source": [
    "\n",
    "players = loaded['players'].copy()\n",
    "cupons = loaded['cupons'].copy()\n",
    "pedestres = loaded['pedestres'].copy()\n",
    "lojas = loaded['lojas'].copy()\n",
    "\n",
    "def to_datetime_safe(s):\n",
    "    import pandas as pd\n",
    "    return pd.to_datetime(s, errors='coerce')\n",
    "\n",
    "players['data_nascimento'] = to_datetime_safe(players.get('data_nascimento'))\n",
    "cupons['data'] = to_datetime_safe(cupons.get('data'))\n",
    "lojas['data_captura'] = to_datetime_safe(lojas.get('data_captura'))\n",
    "\n",
    "if 'numero_celular' in lojas.columns:\n",
    "    lojas = lojas.rename(columns={'numero_celular':'celular'})\n"
   ]
  },
  {
   "cell_type": "code",
   "execution_count": null,
   "id": "fbd33e8f",
   "metadata": {},
   "outputs": [],
   "source": [
    "\n",
    "# KPIs básicos\n",
    "kpis = {}\n",
    "kpis['total_players'] = players['celular'].nunique()\n",
    "kpis['total_cupons'] = len(cupons)\n",
    "kpis['total_usuarios_transacionando'] = cupons['celular'].nunique()\n",
    "kpis['total_lojas'] = lojas['nome_loja'].nunique()\n",
    "kpis['total_estabelecimentos_transacoes'] = cupons['nome_estabelecimento'].nunique()\n",
    "kpis['valor_cupom_total'] = float(cupons['valor_cupom'].sum())\n",
    "kpis['ticket_medio_compra_estimado'] = float(lojas['valor_compra'].mean())\n",
    "kpis\n"
   ]
  },
  {
   "cell_type": "code",
   "execution_count": null,
   "id": "6d6c4f27",
   "metadata": {},
   "outputs": [],
   "source": [
    "\n",
    "# Qualidade (nulos e duplicados)\n",
    "def quality(df):\n",
    "    return {\n",
    "        'rows': len(df),\n",
    "        'cols': df.shape[1],\n",
    "        'duplicates': int(df.duplicated().sum()),\n",
    "        'missing': df.isna().sum().sort_values(ascending=False).head(10)\n",
    "    }\n",
    "\n",
    "quality_players = quality(players)\n",
    "quality_cupons = quality(cupons)\n",
    "quality_pedestres = quality(pedestres)\n",
    "quality_lojas = quality(lojas)\n",
    "\n",
    "quality_players, quality_cupons, quality_pedestres, quality_lojas\n"
   ]
  },
  {
   "cell_type": "code",
   "execution_count": null,
   "id": "aa500c3a",
   "metadata": {},
   "outputs": [],
   "source": [
    "\n",
    "# Exploração — gráficos simples\n",
    "if 'valor_cupom' in cupons.columns:\n",
    "    plt.figure()\n",
    "    cupons['valor_cupom'].dropna().hist(bins=30)\n",
    "    plt.title('Distribuição — Valor de Cupom')\n",
    "    plt.xlabel('valor_cupom'); plt.ylabel('frequência')\n",
    "    plt.show()\n",
    "\n",
    "if 'valor_compra' in lojas.columns:\n",
    "    plt.figure()\n",
    "    lojas['valor_compra'].dropna().hist(bins=30)\n",
    "    plt.title('Distribuição — Valor de Compra')\n",
    "    plt.xlabel('valor_compra'); plt.ylabel('frequência')\n",
    "    plt.show()\n",
    "\n",
    "if 'data' in cupons.columns:\n",
    "    tmp = cupons.copy()\n",
    "    tmp['data'] = pd.to_datetime(tmp['data'], errors='coerce')\n",
    "    daily = tmp.groupby(tmp['data'].dt.date).size()\n",
    "    plt.figure()\n",
    "    daily.plot(kind='line')\n",
    "    plt.title('Transações (Cupons) por Dia')\n",
    "    plt.xlabel('data'); plt.ylabel('qtd_cupons')\n",
    "    plt.show()\n"
   ]
  }
 ],
 "metadata": {
  "kernelspec": {
   "display_name": "Python 3",
   "language": "python",
   "name": "python3"
  },
  "language_info": {
   "codemirror_mode": {
    "name": "ipython",
    "version": 3
   },
   "file_extension": ".py",
   "mimetype": "text/x-python",
   "name": "python",
   "nbconvert_exporter": "python",
   "pygments_lexer": "ipython3",
   "version": "3.13.7"
  }
 },
 "nbformat": 4,
 "nbformat_minor": 5
}
